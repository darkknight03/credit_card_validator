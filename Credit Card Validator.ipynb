{
 "cells": [
  {
   "cell_type": "code",
   "execution_count": 1,
   "metadata": {},
   "outputs": [],
   "source": [
    "# check is credit card number is valid using checksum"
   ]
  },
  {
   "cell_type": "code",
   "execution_count": 18,
   "metadata": {},
   "outputs": [],
   "source": [
    "number = '4578423013769219'"
   ]
  },
  {
   "cell_type": "code",
   "execution_count": 130,
   "metadata": {},
   "outputs": [
    {
     "data": {
      "text/plain": [
       "15"
      ]
     },
     "execution_count": 130,
     "metadata": {},
     "output_type": "execute_result"
    }
   ],
   "source": [
    "len(number)-1"
   ]
  },
  {
   "cell_type": "code",
   "execution_count": 111,
   "metadata": {},
   "outputs": [
    {
     "data": {
      "text/plain": [
       "['4578423013769219']"
      ]
     },
     "execution_count": 111,
     "metadata": {},
     "output_type": "execute_result"
    }
   ],
   "source": [
    "number.split()"
   ]
  },
  {
   "cell_type": "code",
   "execution_count": 112,
   "metadata": {},
   "outputs": [
    {
     "data": {
      "text/plain": [
       "4"
      ]
     },
     "execution_count": 112,
     "metadata": {},
     "output_type": "execute_result"
    }
   ],
   "source": [
    "int(number[0])"
   ]
  },
  {
   "cell_type": "code",
   "execution_count": 20,
   "metadata": {},
   "outputs": [
    {
     "name": "stdout",
     "output_type": "stream",
     "text": [
      "8\n",
      "5\n",
      "5\n",
      "8\n",
      "8\n",
      "2\n",
      "6\n",
      "0\n",
      "2\n",
      "3\n",
      "5\n",
      "6\n",
      "9\n",
      "2\n",
      "2\n"
     ]
    }
   ],
   "source": [
    "total = []\n",
    "for digit in range(len(number)-1):\n",
    "    x = int(number[digit])\n",
    "    y = x * 2\n",
    "    if digit % 2 == 0:\n",
    "        if y > 9:\n",
    "            num_string = str(x*2)\n",
    "            add1 = int(num_string[0])\n",
    "            add2 = int(num_string[1])\n",
    "            y = add1 + add2\n",
    "            print(y)\n",
    "            total.append(y)\n",
    "        else:\n",
    "            print(y)\n",
    "            total.append(y)\n",
    "    else:\n",
    "        print(x)\n",
    "        total.append(x)"
   ]
  },
  {
   "cell_type": "code",
   "execution_count": 114,
   "metadata": {},
   "outputs": [
    {
     "data": {
      "text/plain": [
       "71"
      ]
     },
     "execution_count": 114,
     "metadata": {},
     "output_type": "execute_result"
    }
   ],
   "source": [
    "sum(total)"
   ]
  },
  {
   "cell_type": "code",
   "execution_count": 10,
   "metadata": {},
   "outputs": [],
   "source": [
    "# right to left\n",
    "def credit_check(number):\n",
    "    total = []\n",
    "    for digit in range(len(number)-1,0,-1):\n",
    "        \n",
    "        if len(number) % 2 == 0:\n",
    "            even_odd = 0\n",
    "        else:\n",
    "            even_odd = 1\n",
    "        \n",
    "        x = int(number[digit])\n",
    "        y = x * 2\n",
    "        if digit % 2 == even_odd:\n",
    "            if y > 9:\n",
    "                #print(y-9)\n",
    "                total.append(y-9)\n",
    "            else:\n",
    "                #print(y)\n",
    "                total.append(y)\n",
    "        else:\n",
    "            #print(x)\n",
    "            total.append(x)\n",
    "    \n",
    "    check = sum(total) + int(number[0])\n",
    "    #print(check)\n",
    "    if check % 10 == 0:\n",
    "        return \"Credit Card number is valid \"\n",
    "    else:\n",
    "        return \"Credit Card number is invalid\""
   ]
  },
  {
   "cell_type": "code",
   "execution_count": 19,
   "metadata": {},
   "outputs": [
    {
     "data": {
      "text/plain": [
       "'Credit Card number is invalid'"
      ]
     },
     "execution_count": 19,
     "metadata": {},
     "output_type": "execute_result"
    }
   ],
   "source": [
    "credit_check(number)"
   ]
  },
  {
   "cell_type": "code",
   "execution_count": null,
   "metadata": {},
   "outputs": [],
   "source": []
  },
  {
   "cell_type": "code",
   "execution_count": 23,
   "metadata": {},
   "outputs": [],
   "source": [
    "# left to right\n",
    "def credit_check2(number):\n",
    "    total = []\n",
    "    for digit in range(len(number)-1):\n",
    "        \n",
    "        if len(number) % 2 == 0:\n",
    "            even_odd = 0\n",
    "        else:\n",
    "            even_odd = 1\n",
    "        x = int(number[digit])\n",
    "        y = x * 2\n",
    "        if digit % 2 == even_odd:\n",
    "            if y > 9:\n",
    "                #print(y-9)\n",
    "                total.append(y-9)\n",
    "            else:\n",
    "                #print(y)\n",
    "                total.append(y)\n",
    "        else:\n",
    "            #print(x)\n",
    "            total.append(x)\n",
    "    \n",
    "    check = sum(total) + int(number[-1])\n",
    "    #print(check)\n",
    "    if check % 10 == 0:\n",
    "        return \"Credit Card number is valid \"\n",
    "    else:\n",
    "        return \"Credit Card number is invalid\""
   ]
  },
  {
   "cell_type": "code",
   "execution_count": 24,
   "metadata": {},
   "outputs": [
    {
     "data": {
      "text/plain": [
       "'Credit Card number is valid '"
      ]
     },
     "execution_count": 24,
     "metadata": {},
     "output_type": "execute_result"
    }
   ],
   "source": [
    "credit_check2(number)"
   ]
  },
  {
   "cell_type": "code",
   "execution_count": 12,
   "metadata": {},
   "outputs": [],
   "source": [
    "import getpass"
   ]
  },
  {
   "cell_type": "code",
   "execution_count": 13,
   "metadata": {},
   "outputs": [
    {
     "name": "stdin",
     "output_type": "stream",
     "text": [
      "Card No:  ················\n"
     ]
    }
   ],
   "source": [
    "num = getpass.getpass(\"Card No: \")"
   ]
  },
  {
   "cell_type": "code",
   "execution_count": 16,
   "metadata": {},
   "outputs": [
    {
     "data": {
      "text/plain": [
       "'Credit Card number is invalid'"
      ]
     },
     "execution_count": 16,
     "metadata": {},
     "output_type": "execute_result"
    }
   ],
   "source": [
    "credit_check2(number)"
   ]
  },
  {
   "cell_type": "code",
   "execution_count": null,
   "metadata": {
    "jupyter": {
     "source_hidden": true
    }
   },
   "outputs": [],
   "source": []
  }
 ],
 "metadata": {
  "kernelspec": {
   "display_name": "Python 3",
   "language": "python",
   "name": "python3"
  },
  "language_info": {
   "codemirror_mode": {
    "name": "ipython",
    "version": 3
   },
   "file_extension": ".py",
   "mimetype": "text/x-python",
   "name": "python",
   "nbconvert_exporter": "python",
   "pygments_lexer": "ipython3",
   "version": "3.7.6"
  }
 },
 "nbformat": 4,
 "nbformat_minor": 4
}
